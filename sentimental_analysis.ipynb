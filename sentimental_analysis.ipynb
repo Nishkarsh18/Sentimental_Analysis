{
 "cells": [
  {
   "cell_type": "code",
   "execution_count": 16,
   "metadata": {},
   "outputs": [],
   "source": [
    "import numpy as np\n",
    "from keras.datasets import imdb"
   ]
  },
  {
   "cell_type": "code",
   "execution_count": 17,
   "metadata": {},
   "outputs": [],
   "source": [
    "((XT,YT),(Xt,Yt)) = imdb.load_data(num_words=10000) # only first 10000 relevant words will be considered"
   ]
  },
  {
   "cell_type": "code",
   "execution_count": 18,
   "metadata": {},
   "outputs": [
    {
     "data": {
      "text/plain": [
       "25000"
      ]
     },
     "execution_count": 18,
     "metadata": {},
     "output_type": "execute_result"
    }
   ],
   "source": [
    "len(XT)"
   ]
  },
  {
   "cell_type": "code",
   "execution_count": 19,
   "metadata": {},
   "outputs": [
    {
     "name": "stdout",
     "output_type": "stream",
     "text": [
      "[1, 14, 22, 16, 43, 530, 973, 1622, 1385, 65, 458, 4468, 66, 3941, 4, 173, 36, 256, 5, 25, 100, 43, 838, 112, 50, 670, 2, 9, 35, 480, 284, 5, 150, 4, 172, 112, 167, 2, 336, 385, 39, 4, 172, 4536, 1111, 17, 546, 38, 13, 447, 4, 192, 50, 16, 6, 147, 2025, 19, 14, 22, 4, 1920, 4613, 469, 4, 22, 71, 87, 12, 16, 43, 530, 38, 76, 15, 13, 1247, 4, 22, 17, 515, 17, 12, 16, 626, 18, 2, 5, 62, 386, 12, 8, 316, 8, 106, 5, 4, 2223, 5244, 16, 480, 66, 3785, 33, 4, 130, 12, 16, 38, 619, 5, 25, 124, 51, 36, 135, 48, 25, 1415, 33, 6, 22, 12, 215, 28, 77, 52, 5, 14, 407, 16, 82, 2, 8, 4, 107, 117, 5952, 15, 256, 4, 2, 7, 3766, 5, 723, 36, 71, 43, 530, 476, 26, 400, 317, 46, 7, 4, 2, 1029, 13, 104, 88, 4, 381, 15, 297, 98, 32, 2071, 56, 26, 141, 6, 194, 7486, 18, 4, 226, 22, 21, 134, 476, 26, 480, 5, 144, 30, 5535, 18, 51, 36, 28, 224, 92, 25, 104, 4, 226, 65, 16, 38, 1334, 88, 12, 16, 283, 5, 16, 4472, 113, 103, 32, 15, 16, 5345, 19, 178, 32]\n"
     ]
    }
   ],
   "source": [
    "print(XT[0])  # keras autumatically convert words to vector no extra processing is needed"
   ]
  },
  {
   "cell_type": "code",
   "execution_count": 20,
   "metadata": {},
   "outputs": [],
   "source": [
    "word_idx = imdb.get_word_index()\n",
    "idx_word = dict([value,key] for (key,value) in word_idx.items())  #swap key values"
   ]
  },
  {
   "cell_type": "code",
   "execution_count": 21,
   "metadata": {},
   "outputs": [],
   "source": [
    "# Vectorize the data\n",
    "# since vocab size is 10000 so we want every word to be represnt as vector of len 10000 (0 and 1 collection)\n",
    "# if word is there 1 else 0"
   ]
  },
  {
   "cell_type": "code",
   "execution_count": 24,
   "metadata": {},
   "outputs": [],
   "source": [
    "def vectorize_sentence(sentences,dim=10000):\n",
    "    outputs = np.zeros((len(sentences),dim)) # setence is a list of number\n",
    "    for (i,idx) in enumerate(sentences):\n",
    "        # enumerate return index and sentence which is a number array\n",
    "        outputs[i,idx]=1;\n",
    "    return outputs\n",
    "    "
   ]
  },
  {
   "cell_type": "code",
   "execution_count": 25,
   "metadata": {},
   "outputs": [],
   "source": [
    "X_train = vectorize_sentence(XT)\n",
    "X_test = vectorize_sentence(Xt)"
   ]
  },
  {
   "cell_type": "code",
   "execution_count": 26,
   "metadata": {},
   "outputs": [
    {
     "data": {
      "text/plain": [
       "array([0., 1., 1., ..., 0., 0., 0.])"
      ]
     },
     "execution_count": 26,
     "metadata": {},
     "output_type": "execute_result"
    }
   ],
   "source": [
    "X_train[0]"
   ]
  },
  {
   "cell_type": "code",
   "execution_count": 27,
   "metadata": {},
   "outputs": [],
   "source": [
    "Y_train = np.asarray(YT).astype('float32')\n",
    "Y_test = np.asarray(Yt).astype('float32')"
   ]
  },
  {
   "cell_type": "code",
   "execution_count": 29,
   "metadata": {},
   "outputs": [],
   "source": [
    "# Building a network\n",
    "# RelU Activation\n",
    "# 2 hidden layer with 16 units\n",
    "# 1 o/p layer with 1 unit (Sigmoid activation)"
   ]
  },
  {
   "cell_type": "code",
   "execution_count": 30,
   "metadata": {},
   "outputs": [],
   "source": [
    "from keras import models\n",
    "from keras.layers import Dense"
   ]
  },
  {
   "cell_type": "code",
   "execution_count": 34,
   "metadata": {},
   "outputs": [],
   "source": [
    "model = models.Sequential()\n",
    "model.add(Dense(16,activation='relu',input_shape=(10000,))) # first layer we have to tell the model and in next it will automatially \n",
    "model.add(Dense(16,activation='relu'))\n",
    "model.add(Dense(1,activation='sigmoid'))"
   ]
  },
  {
   "cell_type": "code",
   "execution_count": 35,
   "metadata": {},
   "outputs": [],
   "source": [
    "model.compile(optimizer='rmsprop',loss='binary_crossentropy',metrics=['accuracy'])"
   ]
  },
  {
   "cell_type": "code",
   "execution_count": 36,
   "metadata": {},
   "outputs": [
    {
     "name": "stdout",
     "output_type": "stream",
     "text": [
      "Model: \"sequential_2\"\n",
      "_________________________________________________________________\n",
      "Layer (type)                 Output Shape              Param #   \n",
      "=================================================================\n",
      "dense_2 (Dense)              (None, 16)                160016    \n",
      "_________________________________________________________________\n",
      "dense_3 (Dense)              (None, 16)                272       \n",
      "_________________________________________________________________\n",
      "dense_4 (Dense)              (None, 1)                 17        \n",
      "=================================================================\n",
      "Total params: 160,305\n",
      "Trainable params: 160,305\n",
      "Non-trainable params: 0\n",
      "_________________________________________________________________\n"
     ]
    }
   ],
   "source": [
    "model.summary()"
   ]
  },
  {
   "cell_type": "code",
   "execution_count": 39,
   "metadata": {},
   "outputs": [],
   "source": [
    "#Training and Validation - Avoiding overfitting (by early stopping)\n",
    "# validation set we see accuracy of training set and find max accuracy and is useful to get point where max accuracy came\n",
    "# training acc inc but validatiion start decreasing after certain pt due to overfitting"
   ]
  },
  {
   "cell_type": "code",
   "execution_count": 42,
   "metadata": {},
   "outputs": [],
   "source": [
    "x_val = X_train[:5000]\n",
    "x_train = X_train[5000:]\n",
    "y_val = Y_train[:5000]\n",
    "y_train = Y_train[5000:]"
   ]
  },
  {
   "cell_type": "code",
   "execution_count": 43,
   "metadata": {},
   "outputs": [
    {
     "name": "stdout",
     "output_type": "stream",
     "text": [
      "Epoch 1/20\n",
      "40/40 [==============================] - 4s 91ms/step - loss: 0.4773 - accuracy: 0.8140 - val_loss: 0.3702 - val_accuracy: 0.8606\n",
      "Epoch 2/20\n",
      "40/40 [==============================] - 1s 32ms/step - loss: 0.2790 - accuracy: 0.9072 - val_loss: 0.2929 - val_accuracy: 0.8858\n",
      "Epoch 3/20\n",
      "40/40 [==============================] - 1s 27ms/step - loss: 0.2062 - accuracy: 0.9310 - val_loss: 0.2753 - val_accuracy: 0.8888\n",
      "Epoch 4/20\n",
      "40/40 [==============================] - 1s 32ms/step - loss: 0.1658 - accuracy: 0.9442 - val_loss: 0.2712 - val_accuracy: 0.8922\n",
      "Epoch 5/20\n",
      "40/40 [==============================] - 1s 31ms/step - loss: 0.1354 - accuracy: 0.9550 - val_loss: 0.3427 - val_accuracy: 0.8704\n",
      "Epoch 6/20\n",
      "40/40 [==============================] - 1s 27ms/step - loss: 0.1134 - accuracy: 0.9639 - val_loss: 0.3110 - val_accuracy: 0.8838\n",
      "Epoch 7/20\n",
      "40/40 [==============================] - 1s 27ms/step - loss: 0.0955 - accuracy: 0.9684 - val_loss: 0.3177 - val_accuracy: 0.8850\n",
      "Epoch 8/20\n",
      "40/40 [==============================] - 1s 22ms/step - loss: 0.0797 - accuracy: 0.9744 - val_loss: 0.3387 - val_accuracy: 0.8840\n",
      "Epoch 9/20\n",
      "40/40 [==============================] - 1s 22ms/step - loss: 0.0633 - accuracy: 0.9822 - val_loss: 0.3695 - val_accuracy: 0.8792\n",
      "Epoch 10/20\n",
      "40/40 [==============================] - 1s 31ms/step - loss: 0.0510 - accuracy: 0.9856 - val_loss: 0.3944 - val_accuracy: 0.8782\n",
      "Epoch 11/20\n",
      "40/40 [==============================] - 1s 22ms/step - loss: 0.0450 - accuracy: 0.9873 - val_loss: 0.4212 - val_accuracy: 0.8774\n",
      "Epoch 12/20\n",
      "40/40 [==============================] - 1s 25ms/step - loss: 0.0318 - accuracy: 0.9934 - val_loss: 0.4593 - val_accuracy: 0.8752\n",
      "Epoch 13/20\n",
      "40/40 [==============================] - 1s 25ms/step - loss: 0.0257 - accuracy: 0.9949 - val_loss: 0.5073 - val_accuracy: 0.8732\n",
      "Epoch 14/20\n",
      "40/40 [==============================] - 1s 22ms/step - loss: 0.0199 - accuracy: 0.9964 - val_loss: 0.5699 - val_accuracy: 0.8664\n",
      "Epoch 15/20\n",
      "40/40 [==============================] - 1s 21ms/step - loss: 0.0153 - accuracy: 0.9976 - val_loss: 0.5549 - val_accuracy: 0.8726\n",
      "Epoch 16/20\n",
      "40/40 [==============================] - 1s 20ms/step - loss: 0.0115 - accuracy: 0.9983 - val_loss: 0.5877 - val_accuracy: 0.8692\n",
      "Epoch 17/20\n",
      "40/40 [==============================] - 1s 22ms/step - loss: 0.0117 - accuracy: 0.9972 - val_loss: 0.6302 - val_accuracy: 0.8716\n",
      "Epoch 18/20\n",
      "40/40 [==============================] - 1s 19ms/step - loss: 0.0082 - accuracy: 0.9987 - val_loss: 0.6574 - val_accuracy: 0.8688\n",
      "Epoch 19/20\n",
      "40/40 [==============================] - 1s 20ms/step - loss: 0.0035 - accuracy: 0.9998 - val_loss: 0.7437 - val_accuracy: 0.8664\n",
      "Epoch 20/20\n",
      "40/40 [==============================] - 1s 19ms/step - loss: 0.0069 - accuracy: 0.9983 - val_loss: 0.7388 - val_accuracy: 0.8700\n"
     ]
    }
   ],
   "source": [
    "hist = model.fit(x_train,y_train,epochs=20,batch_size=512,validation_data=(x_val,y_val))  #btch size power of 2 like large db so small batch size works"
   ]
  },
  {
   "cell_type": "code",
   "execution_count": 44,
   "metadata": {},
   "outputs": [],
   "source": [
    "import matplotlib.pyplot as plt"
   ]
  },
  {
   "cell_type": "code",
   "execution_count": 47,
   "metadata": {},
   "outputs": [
    {
     "data": {
      "image/png": "[encoded data removed]",
      "text/plain": [
       "<Figure size 432x288 with 1 Axes>"
      ]
     },
     "metadata": {
      "needs_background": "light"
     },
     "output_type": "display_data"
    }
   ],
   "source": [
    "h=hist.history\n",
    "plt.plot(h['val_loss'],label=\"validation loss\")\n",
    "plt.plot(h['loss'],label=\"training loss\")\n",
    "plt.legend()\n",
    "plt.show()\n"
   ]
  },
  {
   "cell_type": "code",
   "execution_count": 48,
   "metadata": {},
   "outputs": [
    {
     "data": {
      "image/png": "[encoded data removed]",
      "text/plain": [
       "<Figure size 432x288 with 1 Axes>"
      ]
     },
     "metadata": {
      "needs_background": "light"
     },
     "output_type": "display_data"
    }
   ],
   "source": [
    "plt.plot(h['val_accuracy'],label=\"validation acc\")\n",
    "plt.plot(h['accuracy'],label=\"training acc\")\n",
    "plt.legend()\n",
    "plt.show()"
   ]
  },
  {
   "cell_type": "code",
   "execution_count": 50,
   "metadata": {},
   "outputs": [
    {
     "data": {
      "text/plain": [
       "array([[0.00483793],\n",
       "       [1.        ],\n",
       "       [0.6060647 ],\n",
       "       ...,\n",
       "       [0.01265809],\n",
       "       [0.00650394],\n",
       "       [0.8114209 ]], dtype=float32)"
      ]
     },
     "execution_count": 50,
     "metadata": {},
     "output_type": "execute_result"
    }
   ],
   "source": [
    "# we can oberser round 4 epochs acc is max so we can retrain using 4 epochs\n",
    "model.predict(X_test)"
   ]
  },
  {
   "cell_type": "code",
   "execution_count": null,
   "metadata": {},
   "outputs": [],
   "source": []
  }
 ],
 "metadata": {
  "kernelspec": {
   "display_name": "Python 3",
   "language": "python",
   "name": "python3"
  },
  "language_info": {
   "codemirror_mode": {
    "name": "ipython",
    "version": 3
   },
   "file_extension": ".py",
   "mimetype": "text/x-python",
   "name": "python",
   "nbconvert_exporter": "python",
   "pygments_lexer": "ipython3",
   "version": "3.7.3"
  }
 },
 "nbformat": 4,
 "nbformat_minor": 2
}
